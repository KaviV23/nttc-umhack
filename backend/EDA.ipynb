{
 "cells": [
  {
   "cell_type": "markdown",
   "id": "58528474",
   "metadata": {},
   "source": [
    "## This part is only for the imports"
   ]
  },
  {
   "cell_type": "code",
   "execution_count": 8,
   "id": "7cc9b0c8",
   "metadata": {},
   "outputs": [],
   "source": [
    "import polars as pl"
   ]
  },
  {
   "cell_type": "markdown",
   "id": "7c8bf8cd",
   "metadata": {},
   "source": [
    "\n",
    "## This part loads the data"
   ]
  },
  {
   "cell_type": "code",
   "execution_count": 9,
   "id": "7b2c2b4b",
   "metadata": {},
   "outputs": [
    {
     "name": "stdout",
     "output_type": "stream",
     "text": [
      "Items:\n",
      "shape: (5, 5)\n",
      "┌─────────┬─────────────┬────────────────────────────┬────────────┬─────────────┐\n",
      "│ item_id ┆ cuisine_tag ┆ item_name                  ┆ item_price ┆ merchant_id │\n",
      "│ ---     ┆ ---         ┆ ---                        ┆ ---        ┆ ---         │\n",
      "│ i64     ┆ str         ┆ str                        ┆ f64        ┆ str         │\n",
      "╞═════════╪═════════════╪════════════════════════════╪════════════╪═════════════╡\n",
      "│ 1       ┆ Side        ┆ Fried Spring Rolls         ┆ 3.5        ┆ 1d4f2       │\n",
      "│ 2       ┆ American    ┆ Lemon Pepper Wings (6 pcs) ┆ 7.75       ┆ 8d5f9       │\n",
      "│ 3       ┆ Asian       ┆ General Tso’s Chicken      ┆ 9.5        ┆ 1a3f7       │\n",
      "│ 4       ┆ American    ┆ Bacon Wrapped Dog          ┆ 5.25       ┆ d3b6a       │\n",
      "│ 5       ┆ Dessert     ┆ Kulfi                      ┆ 3.75       ┆ a3e8b       │\n",
      "└─────────┴─────────────┴────────────────────────────┴────────────┴─────────────┘\n",
      "\n",
      "Transactions:\n",
      "shape: (5, 9)\n",
      "┌─────┬───────────┬────────────┬────────────┬───┬────────────┬────────────┬────────────┬───────────┐\n",
      "│     ┆ order_id  ┆ order_time ┆ driver_arr ┆ … ┆ delivery_t ┆ order_valu ┆ eater_id   ┆ merchant_ │\n",
      "│ --- ┆ ---       ┆ ---        ┆ ival_time  ┆   ┆ ime        ┆ e          ┆ ---        ┆ id        │\n",
      "│ i64 ┆ str       ┆ str        ┆ ---        ┆   ┆ ---        ┆ ---        ┆ i64        ┆ ---       │\n",
      "│     ┆           ┆            ┆ str        ┆   ┆ str        ┆ f64        ┆            ┆ str       │\n",
      "╞═════╪═══════════╪════════════╪════════════╪═══╪════════════╪════════════╪════════════╪═══════════╡\n",
      "│ 0   ┆ 46975df1c ┆ 2023-11-07 ┆ 2023-11-07 ┆ … ┆ 2023-11-07 ┆ 10.46      ┆ 3411548704 ┆ 2a1c4     │\n",
      "│     ┆           ┆ 09:49:00   ┆ 09:58:00   ┆   ┆ 10:34:00   ┆            ┆            ┆           │\n",
      "│ 1   ┆ 7623ebe9d ┆ 2023-03-25 ┆ 2023-03-25 ┆ … ┆ 2023-03-25 ┆ 14.75      ┆ 4306408630 ┆ 7f4d2     │\n",
      "│     ┆           ┆ 15:06:00   ┆ 15:12:00   ┆   ┆ 15:30:00   ┆            ┆            ┆           │\n",
      "│ 2   ┆ 01c4be3f6 ┆ 2023-10-24 ┆ 2023-10-24 ┆ … ┆ 2023-10-24 ┆ 19.19      ┆ 4695092599 ┆ b0a4f     │\n",
      "│     ┆           ┆ 06:59:00   ┆ 07:17:00   ┆   ┆ 07:43:00   ┆            ┆            ┆           │\n",
      "│ 3   ┆ dd02ff3da ┆ 2023-06-09 ┆ 2023-06-09 ┆ … ┆ 2023-06-09 ┆ 20.62      ┆ 2581623259 ┆ 1d4f2     │\n",
      "│     ┆           ┆ 18:25:00   ┆ 18:41:00   ┆   ┆ 19:10:00   ┆            ┆            ┆           │\n",
      "│ 4   ┆ 58c560e56 ┆ 2023-04-12 ┆ 2023-04-12 ┆ … ┆ 2023-04-12 ┆ 476.43     ┆ 4045293078 ┆ 7e2d8     │\n",
      "│     ┆           ┆ 08:37:00   ┆ 08:45:00   ┆   ┆ 09:12:00   ┆            ┆            ┆           │\n",
      "└─────┴───────────┴────────────┴────────────┴───┴────────────┴────────────┴────────────┴───────────┘\n",
      "\n",
      "Transaction Items:\n",
      "shape: (5, 4)\n",
      "┌─────┬───────────┬─────────┬─────────────┐\n",
      "│     ┆ order_id  ┆ item_id ┆ merchant_id │\n",
      "│ --- ┆ ---       ┆ ---     ┆ ---         │\n",
      "│ i64 ┆ str       ┆ i64     ┆ str         │\n",
      "╞═════╪═══════════╪═════════╪═════════════╡\n",
      "│ 0   ┆ 46975df1c ┆ 10      ┆ e7a2f       │\n",
      "│ 1   ┆ 7623ebe9d ┆ 101     ┆ 5f1d3       │\n",
      "│ 2   ┆ 7623ebe9d ┆ 56      ┆ 9a8c5       │\n",
      "│ 3   ┆ 7623ebe9d ┆ 44      ┆ 3d9c8       │\n",
      "│ 4   ┆ 01c4be3f6 ┆ 36      ┆ 3b7f0       │\n",
      "└─────┴───────────┴─────────┴─────────────┘\n",
      "\n",
      "Keywords:\n",
      "shape: (5, 6)\n",
      "┌─────┬─────────────────────┬───────┬───────┬──────────┬───────┐\n",
      "│     ┆ keyword             ┆ view  ┆ menu  ┆ checkout ┆ order │\n",
      "│ --- ┆ ---                 ┆ ---   ┆ ---   ┆ ---      ┆ ---   │\n",
      "│ i64 ┆ str                 ┆ i64   ┆ i64   ┆ i64      ┆ i64   │\n",
      "╞═════╪═════════════════════╪═══════╪═══════╪══════════╪═══════╡\n",
      "│ 0   ┆ fried spring rolls  ┆ 37816 ┆ 11185 ┆ 3882     ┆ 153   │\n",
      "│ 1   ┆ spring rolls        ┆ 8977  ┆ 2903  ┆ 1453     ┆ 143   │\n",
      "│ 2   ┆ crispy spring rolls ┆ 11922 ┆ 3604  ┆ 1627     ┆ 147   │\n",
      "│ 3   ┆ egg rolls           ┆ 9587  ┆ 1879  ┆ 1130     ┆ 75    │\n",
      "│ 4   ┆ fried lumpia        ┆ 32437 ┆ 9716  ┆ 3036     ┆ 233   │\n",
      "└─────┴─────────────────────┴───────┴───────┴──────────┴───────┘\n",
      "\n",
      "Merchant:\n",
      "shape: (5, 4)\n",
      "┌─────────────┬───────────────┬───────────┬─────────┐\n",
      "│ merchant_id ┆ merchant_name ┆ join_date ┆ city_id │\n",
      "│ ---         ┆ ---           ┆ ---       ┆ ---     │\n",
      "│ str         ┆ str           ┆ i64       ┆ i64     │\n",
      "╞═════════════╪═══════════════╪═══════════╪═════════╡\n",
      "│ 3e2b6       ┆ Bagel Bros    ┆ 14122015  ┆ 8       │\n",
      "│ 2b5d7       ┆ Bagel House   ┆ 16082017  ┆ 4       │\n",
      "│ 2a1c4       ┆ BBQ Corner    ┆ 3072016   ┆ 2       │\n",
      "│ e8c2b       ┆ BBQ Nation    ┆ 14052020  ┆ 5       │\n",
      "│ f8a3d       ┆ BBQ Spot      ┆ 17032019  ┆ 2       │\n",
      "└─────────────┴───────────────┴───────────┴─────────┘\n"
     ]
    }
   ],
   "source": [
    "# Load CSV files from the backend/data directory\n",
    "items = pl.read_csv(\"./data/items.csv\")\n",
    "transactions = pl.read_csv(\"./data/transaction_data.csv\")\n",
    "transaction_items = pl.read_csv(\"./data/transaction_items.csv\")\n",
    "keywords = pl.read_csv(\"./data/keywords.csv\")\n",
    "merchant = pl.read_csv(\"./data/merchant.csv\")\n",
    "\n",
    "# Verify by printing the first few rows of each DataFrame\n",
    "print(\"Items:\")\n",
    "print(items.head())\n",
    "\n",
    "print(\"\\nTransactions:\")\n",
    "print(transactions.head())\n",
    "\n",
    "print(\"\\nTransaction Items:\")\n",
    "print(transaction_items.head())\n",
    "\n",
    "print(\"\\nKeywords:\")\n",
    "print(keywords.head())\n",
    "\n",
    "print(\"\\nMerchant:\")\n",
    "print(merchant.head())"
   ]
  }
 ],
 "metadata": {
  "kernelspec": {
   "display_name": ".venv",
   "language": "python",
   "name": "python3"
  },
  "language_info": {
   "codemirror_mode": {
    "name": "ipython",
    "version": 3
   },
   "file_extension": ".py",
   "mimetype": "text/x-python",
   "name": "python",
   "nbconvert_exporter": "python",
   "pygments_lexer": "ipython3",
   "version": "3.11.9"
  }
 },
 "nbformat": 4,
 "nbformat_minor": 5
}
